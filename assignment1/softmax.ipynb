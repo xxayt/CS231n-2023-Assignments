{
 "cells": [
  {
   "cell_type": "markdown",
   "id": "5fdfc27e",
   "metadata": {
    "tags": [
     "pdf-title"
    ]
   },
   "source": [
    "# Softmax exercise\n",
    "\n",
    "*Complete and hand in this completed worksheet (including its outputs and any supporting code outside of the worksheet) with your assignment submission. For more details see the [assignments page](http://vision.stanford.edu/teaching/cs231n/assignments.html) on the course website.*\n",
    "\n",
    "This exercise is analogous to the SVM exercise. You will:\n",
    "\n",
    "- implement a fully-vectorized **loss function** for the Softmax classifier\n",
    "- implement the fully-vectorized expression for its **analytic gradient**\n",
    "- **check your implementation** with numerical gradient\n",
    "- use a validation set to **tune the learning rate and regularization** strength\n",
    "- **optimize** the loss function with **SGD**\n",
    "- **visualize** the final learned weights\n"
   ]
  },
  {
   "cell_type": "code",
   "execution_count": 1,
   "id": "ca6cf2d4",
   "metadata": {
    "tags": [
     "pdf-ignore"
    ]
   },
   "outputs": [],
   "source": [
    "import random\n",
    "import numpy as np\n",
    "from cs231n.data_utils import load_CIFAR10\n",
    "import matplotlib.pyplot as plt\n",
    "\n",
    "%matplotlib inline\n",
    "plt.rcParams['figure.figsize'] = (10.0, 8.0) # set default size of plots\n",
    "plt.rcParams['image.interpolation'] = 'nearest'\n",
    "plt.rcParams['image.cmap'] = 'gray'\n",
    "\n",
    "# for auto-reloading extenrnal modules\n",
    "# see http://stackoverflow.com/questions/1907993/autoreload-of-modules-in-ipython\n",
    "%load_ext autoreload\n",
    "%autoreload 2"
   ]
  },
  {
   "cell_type": "code",
   "execution_count": 2,
   "id": "9e9bbbbe",
   "metadata": {
    "tags": [
     "pdf-ignore"
    ]
   },
   "outputs": [
    {
     "name": "stdout",
     "output_type": "stream",
     "text": [
      "Train data shape:  (49000, 3073)\n",
      "Train labels shape:  (49000,)\n",
      "Validation data shape:  (1000, 3073)\n",
      "Validation labels shape:  (1000,)\n",
      "Test data shape:  (1000, 3073)\n",
      "Test labels shape:  (1000,)\n",
      "dev data shape:  (500, 3073)\n",
      "dev labels shape:  (500,)\n"
     ]
    }
   ],
   "source": [
    "def get_CIFAR10_data(num_training=49000, num_validation=1000, num_test=1000, num_dev=500):\n",
    "    \"\"\"\n",
    "    Load the CIFAR-10 dataset from disk and perform preprocessing to prepare\n",
    "    it for the linear classifier. These are the same steps as we used for the\n",
    "    SVM, but condensed to a single function.  \n",
    "    \"\"\"\n",
    "    # Load the raw CIFAR-10 data\n",
    "    cifar10_dir = 'cs231n/datasets/cifar-10-batches-py'\n",
    "    \n",
    "    # Cleaning up variables to prevent loading data multiple times (which may cause memory issue)\n",
    "    try:\n",
    "       del X_train, y_train\n",
    "       del X_test, y_test\n",
    "       print('Clear previously loaded data.')\n",
    "    except:\n",
    "       pass\n",
    "\n",
    "    X_train, y_train, X_test, y_test = load_CIFAR10(cifar10_dir)\n",
    "    \n",
    "    # subsample the data\n",
    "    mask = list(range(num_training, num_training + num_validation))\n",
    "    X_val = X_train[mask]\n",
    "    y_val = y_train[mask]\n",
    "    mask = list(range(num_training))\n",
    "    X_train = X_train[mask]\n",
    "    y_train = y_train[mask]\n",
    "    mask = list(range(num_test))\n",
    "    X_test = X_test[mask]\n",
    "    y_test = y_test[mask]\n",
    "    mask = np.random.choice(num_training, num_dev, replace=False)\n",
    "    X_dev = X_train[mask]\n",
    "    y_dev = y_train[mask]\n",
    "    \n",
    "    # Preprocessing: reshape the image data into rows\n",
    "    X_train = np.reshape(X_train, (X_train.shape[0], -1))\n",
    "    X_val = np.reshape(X_val, (X_val.shape[0], -1))\n",
    "    X_test = np.reshape(X_test, (X_test.shape[0], -1))\n",
    "    X_dev = np.reshape(X_dev, (X_dev.shape[0], -1))\n",
    "    \n",
    "    # Normalize the data: subtract the mean image\n",
    "    mean_image = np.mean(X_train, axis = 0)\n",
    "    X_train -= mean_image\n",
    "    X_val -= mean_image\n",
    "    X_test -= mean_image\n",
    "    X_dev -= mean_image\n",
    "    \n",
    "    # add bias dimension and transform into columns\n",
    "    X_train = np.hstack([X_train, np.ones((X_train.shape[0], 1))])\n",
    "    X_val = np.hstack([X_val, np.ones((X_val.shape[0], 1))])\n",
    "    X_test = np.hstack([X_test, np.ones((X_test.shape[0], 1))])\n",
    "    X_dev = np.hstack([X_dev, np.ones((X_dev.shape[0], 1))])\n",
    "    \n",
    "    return X_train, y_train, X_val, y_val, X_test, y_test, X_dev, y_dev\n",
    "\n",
    "\n",
    "# Invoke the above function to get our data.\n",
    "X_train, y_train, X_val, y_val, X_test, y_test, X_dev, y_dev = get_CIFAR10_data()\n",
    "print('Train data shape: ', X_train.shape)\n",
    "print('Train labels shape: ', y_train.shape)\n",
    "print('Validation data shape: ', X_val.shape)\n",
    "print('Validation labels shape: ', y_val.shape)\n",
    "print('Test data shape: ', X_test.shape)\n",
    "print('Test labels shape: ', y_test.shape)\n",
    "print('dev data shape: ', X_dev.shape)\n",
    "print('dev labels shape: ', y_dev.shape)"
   ]
  },
  {
   "cell_type": "markdown",
   "id": "d4c3fb04",
   "metadata": {},
   "source": [
    "## Softmax Classifier\n",
    "\n",
    "Your code for this section will all be written inside `cs231n/classifiers/softmax.py`.\n",
    "\n",
    "- Softmax loss 形式: （基于cross-entropy loss交叉熵损失）\n",
    "$$\n",
    "L=\\dfrac{1}{N}\\sum\\limits_{i=1}^{N}L_i + \\lambda R(W) \\\\\n",
    "\n",
    "\\color{red}L_i = -\\log\\left(\\dfrac{e^{f_{y_i}}}{\\sum\\limits_j e^{f_j}}\\right) = -f_{y_i} + \\log\\left(\\sum\\limits_j e^{f_j}\\right).\\ f_j=w_j^Tx_i, f_{y_i}=w_{y_i}^T{x_i} \\\\\n",
    "$$  \n",
    "\n",
    "将评分函数 $f(x_i,W)$ 视为每个分类的未归一化的对数概率\n",
    "\n",
    "- 函数微分：\n",
    "$$\n",
    "\\begin{aligned}\n",
    "\\nabla_{w_{y_i}} L_i& = -x_i + \\dfrac{x_i\\cdot e^{f_{y_i}}}{\\sum\\limits_j e^{f_j}} + \\lambda\\cdot\\nabla_{w_{y_i}} R  \\\\\n",
    "\\nabla_{w_j} L_i& = \\dfrac{x_j\\cdot e^{f_{j}}}{\\sum\\limits_j e^{f_j}} + \\lambda\\cdot\\nabla_{w_j} R \\end{aligned}\n",
    "$$"
   ]
  },
  {
   "cell_type": "code",
   "execution_count": 3,
   "id": "25f2e5e1",
   "metadata": {},
   "outputs": [
    {
     "name": "stdout",
     "output_type": "stream",
     "text": [
      "loss: 2.303530\n",
      "sanity check: 2.302585\n"
     ]
    }
   ],
   "source": [
    "# First implement the naive softmax loss function with nested loops.\n",
    "# Open the file cs231n/classifiers/softmax.py and implement the\n",
    "# softmax_loss_naive function.\n",
    "\n",
    "from cs231n.classifiers.softmax import softmax_loss_naive\n",
    "import time\n",
    "\n",
    "# Generate a random softmax weight matrix and use it to compute the loss.\n",
    "W = np.random.randn(3073, 10) * 0.0001\n",
    "loss, grad = softmax_loss_naive(W, X_dev, y_dev, 0.0)\n",
    "\n",
    "# As a rough sanity check, our loss should be something close to -log(0.1).\n",
    "print('loss: %f' % loss)  # 随机初始化的W，loss应该是-log(0.1)左右\n",
    "print('sanity check: %f' % (-np.log(0.1)))"
   ]
  },
  {
   "cell_type": "markdown",
   "id": "15ebc638",
   "metadata": {
    "tags": [
     "pdf-inline"
    ]
   },
   "source": [
    "**Inline Question 1**\n",
    "\n",
    "Why do we expect our loss to be close to -log(0.1)? Explain briefly.\n",
    "\n",
    "$\\color{blue}{\\textit Your Answer:}$ 因为这是一个10分类问题，每个类别的随机概率都是约0.1，所以期望的损失值为-log(0.1)\n"
   ]
  },
  {
   "cell_type": "code",
   "execution_count": 4,
   "id": "a8cb3eb1",
   "metadata": {},
   "outputs": [
    {
     "name": "stdout",
     "output_type": "stream",
     "text": [
      "numerical: 0.290099 analytic: 0.290099, relative error: 6.327061e-08\n",
      "numerical: 0.497683 analytic: 0.497682, relative error: 1.357766e-07\n",
      "numerical: -0.414852 analytic: -0.414852, relative error: 6.138336e-08\n",
      "numerical: -1.801519 analytic: -1.801519, relative error: 1.970328e-08\n",
      "numerical: 2.586020 analytic: 2.586020, relative error: 1.664352e-09\n",
      "numerical: 0.612789 analytic: 0.612789, relative error: 5.373300e-08\n",
      "numerical: 0.838011 analytic: 0.838010, relative error: 4.240397e-08\n",
      "numerical: 2.434051 analytic: 2.434051, relative error: 7.176328e-09\n",
      "numerical: 1.060529 analytic: 1.060529, relative error: 6.421321e-09\n",
      "numerical: 3.146984 analytic: 3.146984, relative error: 4.061495e-09\n",
      "####### regularization on #######\n",
      "numerical: 0.880819 analytic: 0.880819, relative error: 1.691149e-09\n",
      "numerical: 1.059925 analytic: 1.059924, relative error: 4.349768e-08\n",
      "numerical: -0.097344 analytic: -0.097344, relative error: 9.628358e-07\n",
      "numerical: 1.537193 analytic: 1.537192, relative error: 4.052364e-08\n",
      "numerical: 1.136998 analytic: 1.136997, relative error: 3.058985e-08\n",
      "numerical: -2.165488 analytic: -2.165488, relative error: 1.282832e-08\n",
      "numerical: -0.621296 analytic: -0.621296, relative error: 8.195798e-08\n",
      "numerical: -1.421308 analytic: -1.421308, relative error: 4.169332e-08\n",
      "numerical: -1.892403 analytic: -1.892404, relative error: 5.359114e-08\n",
      "numerical: -0.737839 analytic: -0.737839, relative error: 1.424955e-08\n"
     ]
    }
   ],
   "source": [
    "# Complete the implementation of softmax_loss_naive and implement a (naive)\n",
    "# version of the gradient that uses nested loops.\n",
    "loss, grad = softmax_loss_naive(W, X_dev, y_dev, 0.0)\n",
    "\n",
    "# As we did for the SVM, use numeric gradient checking as a debugging tool.\n",
    "# The numeric gradient should be close to the analytic gradient.\n",
    "from cs231n.gradient_check import grad_check_sparse\n",
    "f = lambda w: softmax_loss_naive(w, X_dev, y_dev, 0.0)[0]\n",
    "grad_numerical = grad_check_sparse(f, W, grad, 10)\n",
    "\n",
    "# similar to SVM case, do another gradient check with regularization\n",
    "print(\"####### regularization on #######\")\n",
    "loss, grad = softmax_loss_naive(W, X_dev, y_dev, 5e1)\n",
    "f = lambda w: softmax_loss_naive(w, X_dev, y_dev, 5e1)[0]\n",
    "grad_numerical = grad_check_sparse(f, W, grad, 10)"
   ]
  },
  {
   "cell_type": "code",
   "execution_count": 23,
   "id": "4a4a81d4",
   "metadata": {},
   "outputs": [
    {
     "name": "stdout",
     "output_type": "stream",
     "text": [
      "naive loss: 2.303530e+00 computed in 0.124362s\n",
      "vectorized loss: 2.303530e+00 computed in 0.005134s\n",
      "Loss difference: 0.000000\n",
      "Gradient difference: 0.000000\n"
     ]
    }
   ],
   "source": [
    "# Now that we have a naive implementation of the softmax loss function and its gradient,\n",
    "# implement a vectorized version in softmax_loss_vectorized.\n",
    "# The two versions should compute the same results, but the vectorized version should be\n",
    "# much faster.\n",
    "tic = time.time()\n",
    "loss_naive, grad_naive = softmax_loss_naive(W, X_dev, y_dev, 0.000005)\n",
    "toc = time.time()\n",
    "print('naive loss: %e computed in %fs' % (loss_naive, toc - tic))\n",
    "\n",
    "from cs231n.classifiers.softmax import softmax_loss_vectorized\n",
    "tic = time.time()\n",
    "loss_vectorized, grad_vectorized = softmax_loss_vectorized(W, X_dev, y_dev, 0.000005)\n",
    "toc = time.time()\n",
    "print('vectorized loss: %e computed in %fs' % (loss_vectorized, toc - tic))\n",
    "\n",
    "# As we did for the SVM, we use the Frobenius norm to compare the two versions\n",
    "# of the gradient.\n",
    "print('Loss difference: %f' % np.abs(loss_naive - loss_vectorized))\n",
    "grad_difference = np.linalg.norm(grad_naive - grad_vectorized, ord='fro')\n",
    "print('Gradient difference: %f' % grad_difference)"
   ]
  },
  {
   "cell_type": "code",
   "execution_count": 27,
   "id": "a3453536",
   "metadata": {
    "tags": [
     "code"
    ],
    "test": "tuning"
   },
   "outputs": [
    {
     "name": "stdout",
     "output_type": "stream",
     "text": [
      "iteration 0 / 1500: loss 81.509538\n",
      "iteration 100 / 1500: loss 72.706668\n",
      "iteration 200 / 1500: loss 65.531870\n",
      "iteration 300 / 1500: loss 59.027498\n",
      "iteration 400 / 1500: loss 53.408624\n",
      "iteration 500 / 1500: loss 48.338780\n",
      "iteration 600 / 1500: loss 43.841398\n",
      "iteration 700 / 1500: loss 40.020693\n",
      "iteration 800 / 1500: loss 36.095283\n",
      "iteration 900 / 1500: loss 32.811077\n",
      "iteration 1000 / 1500: loss 29.796931\n",
      "iteration 1100 / 1500: loss 27.146415\n",
      "iteration 1200 / 1500: loss 24.752829\n",
      "iteration 1300 / 1500: loss 22.292463\n",
      "iteration 1400 / 1500: loss 20.429910\n",
      "iteration 0 / 1500: loss 156.761293\n",
      "iteration 100 / 1500: loss 127.591253\n",
      "iteration 200 / 1500: loss 104.303495\n",
      "iteration 300 / 1500: loss 85.212309\n",
      "iteration 400 / 1500: loss 69.928082\n",
      "iteration 500 / 1500: loss 57.597979\n",
      "iteration 600 / 1500: loss 47.362088\n",
      "iteration 700 / 1500: loss 39.167511\n",
      "iteration 800 / 1500: loss 32.222197\n",
      "iteration 900 / 1500: loss 26.692544\n",
      "iteration 1000 / 1500: loss 22.207653\n",
      "iteration 1100 / 1500: loss 18.506866\n",
      "iteration 1200 / 1500: loss 15.471697\n",
      "iteration 1300 / 1500: loss 12.991254\n",
      "iteration 1400 / 1500: loss 11.046002\n",
      "iteration 0 / 1500: loss 219.885236\n",
      "iteration 100 / 1500: loss 165.049156\n",
      "iteration 200 / 1500: loss 125.065411\n",
      "iteration 300 / 1500: loss 94.600007\n",
      "iteration 400 / 1500: loss 71.568779\n",
      "iteration 500 / 1500: loss 54.566354\n",
      "iteration 600 / 1500: loss 41.619314\n",
      "iteration 700 / 1500: loss 31.899635\n",
      "iteration 800 / 1500: loss 24.639214\n",
      "iteration 900 / 1500: loss 19.025382\n",
      "iteration 1000 / 1500: loss 14.857706\n",
      "iteration 1100 / 1500: loss 11.602610\n",
      "iteration 1200 / 1500: loss 9.377857\n",
      "iteration 1300 / 1500: loss 7.499981\n",
      "iteration 1400 / 1500: loss 6.090763\n",
      "iteration 0 / 1500: loss 770.623262\n",
      "iteration 100 / 1500: loss 282.964764\n",
      "iteration 200 / 1500: loss 104.885529\n",
      "iteration 300 / 1500: loss 39.692295\n",
      "iteration 400 / 1500: loss 15.846730\n",
      "iteration 500 / 1500: loss 7.094350\n",
      "iteration 600 / 1500: loss 3.903721\n",
      "iteration 700 / 1500: loss 2.725290\n",
      "iteration 800 / 1500: loss 2.401580\n",
      "iteration 900 / 1500: loss 2.170026\n",
      "iteration 1000 / 1500: loss 2.141086\n",
      "iteration 1100 / 1500: loss 2.067706\n",
      "iteration 1200 / 1500: loss 2.098215\n",
      "iteration 1300 / 1500: loss 2.112916\n",
      "iteration 1400 / 1500: loss 2.147755\n",
      "iteration 0 / 1500: loss 1556.269303\n",
      "iteration 100 / 1500: loss 209.722635\n",
      "iteration 200 / 1500: loss 29.901354\n",
      "iteration 300 / 1500: loss 5.894482\n",
      "iteration 400 / 1500: loss 2.659018\n",
      "iteration 500 / 1500: loss 2.169084\n",
      "iteration 600 / 1500: loss 2.128769\n",
      "iteration 700 / 1500: loss 2.182051\n",
      "iteration 800 / 1500: loss 2.096431\n",
      "iteration 900 / 1500: loss 2.175442\n",
      "iteration 1000 / 1500: loss 2.137200\n",
      "iteration 1100 / 1500: loss 2.126125\n",
      "iteration 1200 / 1500: loss 2.075421\n",
      "iteration 1300 / 1500: loss 2.082887\n",
      "iteration 1400 / 1500: loss 2.159206\n",
      "iteration 0 / 1500: loss 82.050539\n",
      "iteration 100 / 1500: loss 48.995564\n",
      "iteration 200 / 1500: loss 30.013066\n",
      "iteration 300 / 1500: loss 18.874067\n",
      "iteration 400 / 1500: loss 12.084230\n",
      "iteration 500 / 1500: loss 8.067733\n",
      "iteration 600 / 1500: loss 5.604357\n",
      "iteration 700 / 1500: loss 4.089420\n",
      "iteration 800 / 1500: loss 3.166163\n",
      "iteration 900 / 1500: loss 2.733645\n",
      "iteration 1000 / 1500: loss 2.419091\n",
      "iteration 1100 / 1500: loss 2.177034\n",
      "iteration 1200 / 1500: loss 2.121903\n",
      "iteration 1300 / 1500: loss 2.020739\n",
      "iteration 1400 / 1500: loss 1.966241\n",
      "iteration 0 / 1500: loss 159.184574\n",
      "iteration 100 / 1500: loss 58.271411\n",
      "iteration 200 / 1500: loss 22.388119\n",
      "iteration 300 / 1500: loss 9.385067\n",
      "iteration 400 / 1500: loss 4.687367\n",
      "iteration 500 / 1500: loss 2.851811\n",
      "iteration 600 / 1500: loss 2.348927\n",
      "iteration 700 / 1500: loss 1.972793\n",
      "iteration 800 / 1500: loss 1.935469\n",
      "iteration 900 / 1500: loss 1.986135\n",
      "iteration 1000 / 1500: loss 1.917801\n",
      "iteration 1100 / 1500: loss 1.960060\n",
      "iteration 1200 / 1500: loss 1.957461\n",
      "iteration 1300 / 1500: loss 1.844416\n",
      "iteration 1400 / 1500: loss 1.858268\n",
      "iteration 0 / 1500: loss 223.131656\n",
      "iteration 100 / 1500: loss 54.873070\n",
      "iteration 200 / 1500: loss 14.815806\n",
      "iteration 300 / 1500: loss 5.073749\n",
      "iteration 400 / 1500: loss 2.769050\n",
      "iteration 500 / 1500: loss 2.177148\n",
      "iteration 600 / 1500: loss 2.090232\n",
      "iteration 700 / 1500: loss 1.978378\n",
      "iteration 800 / 1500: loss 1.937995\n",
      "iteration 900 / 1500: loss 2.004690\n",
      "iteration 1000 / 1500: loss 2.030534\n",
      "iteration 1100 / 1500: loss 2.013489\n",
      "iteration 1200 / 1500: loss 2.037972\n",
      "iteration 1300 / 1500: loss 2.017438\n",
      "iteration 1400 / 1500: loss 2.009190\n",
      "iteration 0 / 1500: loss 782.502001\n",
      "iteration 100 / 1500: loss 6.910721\n",
      "iteration 200 / 1500: loss 2.167218\n",
      "iteration 300 / 1500: loss 2.106201\n",
      "iteration 400 / 1500: loss 2.043950\n",
      "iteration 500 / 1500: loss 2.091744\n",
      "iteration 600 / 1500: loss 2.028496\n",
      "iteration 700 / 1500: loss 2.061218\n",
      "iteration 800 / 1500: loss 2.122027\n",
      "iteration 900 / 1500: loss 2.106899\n",
      "iteration 1000 / 1500: loss 2.057209\n",
      "iteration 1100 / 1500: loss 2.119098\n",
      "iteration 1200 / 1500: loss 2.108935\n",
      "iteration 1300 / 1500: loss 2.083323\n",
      "iteration 1400 / 1500: loss 2.128030\n",
      "iteration 0 / 1500: loss 1575.600710\n",
      "iteration 100 / 1500: loss 2.251028\n",
      "iteration 200 / 1500: loss 2.136157\n",
      "iteration 300 / 1500: loss 2.127409\n",
      "iteration 400 / 1500: loss 2.152119\n",
      "iteration 500 / 1500: loss 2.147061\n",
      "iteration 600 / 1500: loss 2.145945\n",
      "iteration 700 / 1500: loss 2.127802\n",
      "iteration 800 / 1500: loss 2.103017\n",
      "iteration 900 / 1500: loss 2.131186\n",
      "iteration 1000 / 1500: loss 2.143402\n",
      "iteration 1100 / 1500: loss 2.114438\n",
      "iteration 1200 / 1500: loss 2.081721\n",
      "iteration 1300 / 1500: loss 2.136843\n",
      "iteration 1400 / 1500: loss 2.110496\n",
      "lr 1.000000e-07 reg 2.500000e+03 train accuracy: 0.296347 val accuracy: 0.294000\n",
      "lr 1.000000e-07 reg 5.000000e+03 train accuracy: 0.331878 val accuracy: 0.342000\n",
      "lr 1.000000e-07 reg 7.000000e+03 train accuracy: 0.352184 val accuracy: 0.339000\n",
      "lr 1.000000e-07 reg 2.500000e+04 train accuracy: 0.324510 val accuracy: 0.336000\n",
      "lr 1.000000e-07 reg 5.000000e+04 train accuracy: 0.304347 val accuracy: 0.324000\n",
      "lr 5.000000e-07 reg 2.500000e+03 train accuracy: 0.386714 val accuracy: 0.387000\n",
      "lr 5.000000e-07 reg 5.000000e+03 train accuracy: 0.375653 val accuracy: 0.389000\n",
      "lr 5.000000e-07 reg 7.000000e+03 train accuracy: 0.361000 val accuracy: 0.379000\n",
      "lr 5.000000e-07 reg 2.500000e+04 train accuracy: 0.327592 val accuracy: 0.343000\n",
      "lr 5.000000e-07 reg 5.000000e+04 train accuracy: 0.289571 val accuracy: 0.304000\n",
      "best validation accuracy achieved during cross-validation: 0.389000\n"
     ]
    }
   ],
   "source": [
    "# Use the validation set to tune hyperparameters (regularization strength and\n",
    "# learning rate). You should experiment with different ranges for the learning\n",
    "# rates and regularization strengths; if you are careful you should be able to\n",
    "# get a classification accuracy of over 0.35 on the validation set.\n",
    "\n",
    "from cs231n.classifiers import Softmax\n",
    "results = {}\n",
    "best_val = -1\n",
    "best_softmax = None\n",
    "\n",
    "################################################################################\n",
    "# TODO:                                                                        #\n",
    "# Use the validation set to set the learning rate and regularization strength. #\n",
    "# This should be identical to the validation that you did for the SVM; save    #\n",
    "# the best trained softmax classifer in best_softmax.                          #\n",
    "################################################################################\n",
    "\n",
    "# Provided as a reference. You may or may not want to change these hyperparameters\n",
    "learning_rates = [1e-7, 5e-7]\n",
    "regularization_strengths = [2.5e3, 5e3, 7e3, 2.5e4, 5e4]\n",
    "\n",
    "# *****START OF YOUR CODE (DO NOT DELETE/MODIFY THIS LINE)*****\n",
    "pass\n",
    "for lr in learning_rates:\n",
    "    for reg in regularization_strengths:\n",
    "        softmax = Softmax()\n",
    "        softmax.train(X_train, y_train, learning_rate=lr, reg=reg, num_iters=1500, verbose=True)\n",
    "        y_train_pred = softmax.predict(X_train)\n",
    "        train_accuracy = np.mean(y_train == y_train_pred)\n",
    "        y_val_pred = softmax.predict(X_val)\n",
    "        val_accuracy = np.mean(y_val == y_val_pred)\n",
    "        results[(lr, reg)] = (train_accuracy, val_accuracy)\n",
    "        if val_accuracy > best_val:\n",
    "            best_val = val_accuracy\n",
    "            best_softmax = softmax\n",
    "# *****END OF YOUR CODE (DO NOT DELETE/MODIFY THIS LINE)*****\n",
    "    \n",
    "# Print out results.\n",
    "for lr, reg in sorted(results):\n",
    "    train_accuracy, val_accuracy = results[(lr, reg)]\n",
    "    print('lr %e reg %e train accuracy: %f val accuracy: %f' % (\n",
    "                lr, reg, train_accuracy, val_accuracy))\n",
    "    \n",
    "print('best validation accuracy achieved during cross-validation: %f' % best_val)"
   ]
  },
  {
   "cell_type": "code",
   "execution_count": 28,
   "id": "8a1f9db3",
   "metadata": {
    "test": "test"
   },
   "outputs": [
    {
     "name": "stdout",
     "output_type": "stream",
     "text": [
      "softmax on raw pixels final test set accuracy: 0.383000\n"
     ]
    }
   ],
   "source": [
    "# evaluate on test set\n",
    "# Evaluate the best softmax on test set\n",
    "y_test_pred = best_softmax.predict(X_test)\n",
    "test_accuracy = np.mean(y_test == y_test_pred)\n",
    "print('softmax on raw pixels final test set accuracy: %f' % (test_accuracy, ))"
   ]
  },
  {
   "cell_type": "markdown",
   "id": "86b9b65c",
   "metadata": {
    "tags": [
     "pdf-inline"
    ]
   },
   "source": [
    "**Inline Question 2** - *True or False*\n",
    "\n",
    "Suppose the overall training loss is defined as the sum of the per-datapoint loss over all training examples. It is possible to add a new datapoint to a training set that would leave the SVM loss unchanged, but this is not the case with the Softmax classifier loss.\n",
    "\n",
    "$\\color{blue}{\\textit Your Answer:}$ 对的\n",
    "\n",
    "\n",
    "$\\color{blue}{\\textit Your Explanation:}$  根据SVM损失公式，有可能加入的数据点对于分类器好辨认，所以取max后loss为0。但是Softmax损失公式中，总会得到一个概率分布，计算出交叉熵，即softmax损失总会加上一个非零值。\n",
    "\n"
   ]
  },
  {
   "cell_type": "code",
   "execution_count": 26,
   "id": "009f08b9",
   "metadata": {},
   "outputs": [
    {
     "data": {
      "image/png": "[encoded data removed]",
      "text/plain": [
       "<Figure size 720x576 with 10 Axes>"
      ]
     },
     "metadata": {
      "needs_background": "light"
     },
     "output_type": "display_data"
    }
   ],
   "source": [
    "# Visualize the learned weights for each class\n",
    "w = best_softmax.W[:-1,:] # strip out the bias\n",
    "w = w.reshape(32, 32, 3, 10)\n",
    "\n",
    "w_min, w_max = np.min(w), np.max(w)\n",
    "\n",
    "classes = ['plane', 'car', 'bird', 'cat', 'deer', 'dog', 'frog', 'horse', 'ship', 'truck']\n",
    "for i in range(10):\n",
    "    plt.subplot(2, 5, i + 1)\n",
    "    \n",
    "    # Rescale the weights to be between 0 and 255\n",
    "    wimg = 255.0 * (w[:, :, :, i].squeeze() - w_min) / (w_max - w_min)\n",
    "    plt.imshow(wimg.astype('uint8'))\n",
    "    plt.axis('off')\n",
    "    plt.title(classes[i])"
   ]
  }
 ],
 "metadata": {
  "kernelspec": {
   "display_name": "base",
   "language": "python",
   "name": "python3"
  },
  "language_info": {
   "codemirror_mode": {
    "name": "ipython",
    "version": 3
   },
   "file_extension": ".py",
   "mimetype": "text/x-python",
   "name": "python",
   "nbconvert_exporter": "python",
   "pygments_lexer": "ipython3",
   "version": "3.8.8"
  }
 },
 "nbformat": 4,
 "nbformat_minor": 5
}
