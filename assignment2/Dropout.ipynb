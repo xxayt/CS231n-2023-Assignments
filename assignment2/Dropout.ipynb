{
 "cells": [
  {
   "cell_type": "markdown",
   "metadata": {
    "tags": [
     "pdf-title"
    ]
   },
   "source": [
    "# Dropout\n",
    "Dropout [1] is a technique for regularizing neural networks by randomly setting some output activations to zero during the forward pass. In this exercise, you will implement a dropout layer and modify your fully connected network to optionally use dropout.\n",
    "\n",
    "[1] [Geoffrey E. Hinton et al, \"Improving neural networks by preventing co-adaptation of feature detectors\", arXiv 2012](https://arxiv.org/abs/1207.0580)"
   ]
  },
  {
   "cell_type": "code",
   "execution_count": 3,
   "metadata": {
    "tags": [
     "pdf-ignore"
    ]
   },
   "outputs": [
    {
     "name": "stdout",
     "output_type": "stream",
     "text": [
      "=========== You can safely ignore the message below if you are NOT working on ConvolutionalNetworks.ipynb ===========\n",
      "\tYou will need to compile a Cython extension for a portion of this assignment.\n",
      "\tThe instructions to do this will be given in a section of the notebook below.\n"
     ]
    }
   ],
   "source": [
    "# Setup cell.\n",
    "import time\n",
    "import numpy as np\n",
    "import matplotlib.pyplot as plt\n",
    "from cs231n.classifiers.fc_net import *\n",
    "from cs231n.data_utils import get_CIFAR10_data\n",
    "from cs231n.gradient_check import eval_numerical_gradient, eval_numerical_gradient_array\n",
    "from cs231n.solver import Solver\n",
    "\n",
    "%matplotlib inline\n",
    "plt.rcParams[\"figure.figsize\"] = (10.0, 8.0)  # Set default size of plots.\n",
    "plt.rcParams[\"image.interpolation\"] = \"nearest\"\n",
    "plt.rcParams[\"image.cmap\"] = \"gray\"\n",
    "\n",
    "%load_ext autoreload\n",
    "%autoreload 2\n",
    "\n",
    "def rel_error(x, y):\n",
    "    \"\"\"Returns relative error.\"\"\"\n",
    "    return np.max(np.abs(x - y) / (np.maximum(1e-8, np.abs(x) + np.abs(y))))"
   ]
  },
  {
   "cell_type": "code",
   "execution_count": 4,
   "metadata": {
    "tags": [
     "pdf-ignore"
    ]
   },
   "outputs": [
    {
     "name": "stdout",
     "output_type": "stream",
     "text": [
      "X_train: (49000, 3, 32, 32)\n",
      "y_train: (49000,)\n",
      "X_val: (1000, 3, 32, 32)\n",
      "y_val: (1000,)\n",
      "X_test: (1000, 3, 32, 32)\n",
      "y_test: (1000,)\n"
     ]
    }
   ],
   "source": [
    "# Load the (preprocessed) CIFAR-10 data.\n",
    "data = get_CIFAR10_data()\n",
    "for k, v in list(data.items()):\n",
    "    print(f\"{k}: {v.shape}\")"
   ]
  },
  {
   "cell_type": "markdown",
   "metadata": {},
   "source": [
    "# Dropout: Forward Pass\n",
    "In the file `cs231n/layers.py`, implement the forward pass for dropout. Since dropout behaves differently during training and testing, make sure to implement the operation for both modes.\n",
    "\n",
    "Once you have done so, run the cell below to test your implementation.\n",
    "\n",
    "### 前向传播公式：\n",
    "$$\n",
    "y = \\operatorname{mask}\\cdot x\n",
    "$$"
   ]
  },
  {
   "cell_type": "code",
   "execution_count": 5,
   "metadata": {},
   "outputs": [
    {
     "name": "stdout",
     "output_type": "stream",
     "text": [
      "Running tests with p =  0.25\n",
      "Mean of input:  10.000207878477502\n",
      "Mean of train-time output:  10.014059116977283\n",
      "Mean of test-time output:  10.000207878477502\n",
      "Fraction of train-time output set to zero:  0.749784\n",
      "Fraction of test-time output set to zero:  0.0\n",
      "\n",
      "Running tests with p =  0.4\n",
      "Mean of input:  10.000207878477502\n",
      "Mean of train-time output:  9.977917658761159\n",
      "Mean of test-time output:  10.000207878477502\n",
      "Fraction of train-time output set to zero:  0.600796\n",
      "Fraction of test-time output set to zero:  0.0\n",
      "\n",
      "Running tests with p =  0.7\n",
      "Mean of input:  10.000207878477502\n",
      "Mean of train-time output:  9.987811912159426\n",
      "Mean of test-time output:  10.000207878477502\n",
      "Fraction of train-time output set to zero:  0.30074\n",
      "Fraction of test-time output set to zero:  0.0\n",
      "\n"
     ]
    }
   ],
   "source": [
    "np.random.seed(231)\n",
    "x = np.random.randn(500, 500) + 10\n",
    "\n",
    "for p in [0.25, 0.4, 0.7]:  # p 表示保留神经元的概率\n",
    "    out, _ = dropout_forward(x, {'mode': 'train', 'p': p})\n",
    "    out_test, _ = dropout_forward(x, {'mode': 'test', 'p': p})\n",
    "\n",
    "    print('Running tests with p = ', p)\n",
    "    print('Mean of input: ', x.mean())\n",
    "    print('Mean of train-time output: ', out.mean())\n",
    "    print('Mean of test-time output: ', out_test.mean())\n",
    "    print('Fraction of train-time output set to zero: ', (out == 0).mean())\n",
    "    print('Fraction of test-time output set to zero: ', (out_test == 0).mean())\n",
    "    print()"
   ]
  },
  {
   "cell_type": "markdown",
   "metadata": {},
   "source": [
    "# Dropout: Backward Pass\n",
    "In the file `cs231n/layers.py`, implement the backward pass for dropout. After doing so, run the following cell to numerically gradient-check your implementation.\n",
    "\n",
    "### 反向传播公式：\n",
    "$$\n",
    "\\dfrac{\\partial L}{\\partial x} = \\operatorname{mask}\\cdot \\dfrac{\\partial L}{\\partial y}\n",
    "$$"
   ]
  },
  {
   "cell_type": "code",
   "execution_count": 6,
   "metadata": {},
   "outputs": [
    {
     "name": "stdout",
     "output_type": "stream",
     "text": [
      "dx relative error:  5.44560814873387e-11\n"
     ]
    }
   ],
   "source": [
    "np.random.seed(231)\n",
    "x = np.random.randn(10, 10) + 10\n",
    "dout = np.random.randn(*x.shape)\n",
    "\n",
    "dropout_param = {'mode': 'train', 'p': 0.2, 'seed': 123}\n",
    "out, cache = dropout_forward(x, dropout_param)\n",
    "dx = dropout_backward(dout, cache)\n",
    "dx_num = eval_numerical_gradient_array(lambda xx: dropout_forward(xx, dropout_param)[0], x, dout)\n",
    "\n",
    "# Error should be around e-10 or less.\n",
    "print('dx relative error: ', rel_error(dx, dx_num))"
   ]
  },
  {
   "cell_type": "markdown",
   "metadata": {
    "tags": [
     "pdf-inline"
    ]
   },
   "source": [
    "## Inline Question 1:\n",
    "What happens if we do not divide the values being passed through inverse dropout by `p` in the dropout layer? Why does that happen?\n",
    "\n",
    "## Answer:\n",
    "若不在inverted dropout在训练时除以p，那么在测试时，由于每个神经元都被激活，总的激活输出将会比训练时大p倍，这会导致测试时的结果与训练时不一致。\n",
    "\n",
    "代替方案：在测试时，将每个神经元的激活输出乘以p，得到与训练时相同的drop期望值。"
   ]
  },
  {
   "cell_type": "markdown",
   "metadata": {},
   "source": [
    "# Fully Connected Networks with Dropout\n",
    "In the file `cs231n/classifiers/fc_net.py`, modify your implementation to use dropout. Specifically, if the constructor of the network receives a value that is not 1 for the `dropout_keep_ratio` parameter, then the net should add a dropout layer immediately after every ReLU nonlinearity. After doing so, run the following to numerically gradient-check your implementation."
   ]
  },
  {
   "cell_type": "code",
   "execution_count": 7,
   "metadata": {},
   "outputs": [
    {
     "name": "stdout",
     "output_type": "stream",
     "text": [
      "Running check with dropout =  1\n",
      "Initial loss:  2.300479089768492\n",
      "W1 relative error: 2.42e-07\n",
      "W2 relative error: 2.26e-04\n",
      "W3 relative error: 4.44e-07\n",
      "b1 relative error: 5.38e-09\n",
      "b2 relative error: 1.20e-09\n",
      "b3 relative error: 1.60e-10\n",
      "\n",
      "Running check with dropout =  0.75\n",
      "Initial loss:  2.3023714897044125\n",
      "W1 relative error: 1.85e-07\n",
      "W2 relative error: 1.30e-06\n",
      "W3 relative error: 2.91e-08\n",
      "b1 relative error: 4.73e-09\n",
      "b2 relative error: 1.57e-09\n",
      "b3 relative error: 1.14e-10\n",
      "\n",
      "Running check with dropout =  0.5\n",
      "Initial loss:  2.3042759220785896\n",
      "W1 relative error: 3.11e-07\n",
      "W2 relative error: 5.55e-08\n",
      "W3 relative error: 6.66e-08\n",
      "b1 relative error: 3.65e-08\n",
      "b2 relative error: 2.99e-09\n",
      "b3 relative error: 1.29e-10\n",
      "\n"
     ]
    }
   ],
   "source": [
    "np.random.seed(231)\n",
    "N, D, H1, H2, C = 2, 15, 20, 30, 10\n",
    "X = np.random.randn(N, D)\n",
    "y = np.random.randint(C, size=(N,))\n",
    "\n",
    "for dropout_keep_ratio in [1, 0.75, 0.5]:\n",
    "    print('Running check with dropout = ', dropout_keep_ratio)\n",
    "    model = FullyConnectedNet(\n",
    "        [H1, H2],\n",
    "        input_dim=D,\n",
    "        num_classes=C,\n",
    "        weight_scale=5e-2,\n",
    "        dtype=np.float64,\n",
    "        dropout_keep_ratio=dropout_keep_ratio,\n",
    "        seed=123\n",
    "    )\n",
    "\n",
    "    loss, grads = model.loss(X, y)\n",
    "    print('Initial loss: ', loss)\n",
    "\n",
    "    # Relative errors should be around e-6 or less.\n",
    "    # Note that it's fine if for dropout_keep_ratio=1 you have W2 error be on the order of e-5.\n",
    "    for name in sorted(grads):\n",
    "        f = lambda _: model.loss(X, y)[0]\n",
    "        grad_num = eval_numerical_gradient(f, model.params[name], verbose=False, h=1e-5)\n",
    "        print('%s relative error: %.2e' % (name, rel_error(grad_num, grads[name])))\n",
    "    print()"
   ]
  },
  {
   "cell_type": "markdown",
   "metadata": {},
   "source": [
    "# Regularization Experiment\n",
    "As an experiment, we will train a pair of two-layer networks on 500 training examples: one will use no dropout, and one will use a keep probability of 0.25. We will then visualize the training and validation accuracies of the two networks over time."
   ]
  },
  {
   "cell_type": "code",
   "execution_count": 12,
   "metadata": {
    "scrolled": false
   },
   "outputs": [
    {
     "name": "stdout",
     "output_type": "stream",
     "text": [
      "1\n",
      "(Iteration 1 / 125) loss: 8.282293\n",
      "(Epoch 0 / 25) train acc: 0.234000; val_acc: 0.178000\n",
      "(Epoch 1 / 25) train acc: 0.378000; val_acc: 0.236000\n",
      "(Epoch 2 / 25) train acc: 0.434000; val_acc: 0.243000\n",
      "(Epoch 3 / 25) train acc: 0.566000; val_acc: 0.257000\n",
      "(Epoch 4 / 25) train acc: 0.652000; val_acc: 0.247000\n",
      "(Epoch 5 / 25) train acc: 0.710000; val_acc: 0.241000\n",
      "(Epoch 6 / 25) train acc: 0.802000; val_acc: 0.272000\n",
      "(Epoch 7 / 25) train acc: 0.846000; val_acc: 0.292000\n",
      "(Epoch 8 / 25) train acc: 0.794000; val_acc: 0.269000\n",
      "(Epoch 9 / 25) train acc: 0.838000; val_acc: 0.270000\n",
      "(Epoch 10 / 25) train acc: 0.930000; val_acc: 0.305000\n",
      "(Epoch 11 / 25) train acc: 0.936000; val_acc: 0.301000\n",
      "(Epoch 12 / 25) train acc: 0.958000; val_acc: 0.306000\n",
      "(Epoch 13 / 25) train acc: 0.968000; val_acc: 0.316000\n",
      "(Epoch 14 / 25) train acc: 0.976000; val_acc: 0.307000\n",
      "(Epoch 15 / 25) train acc: 0.984000; val_acc: 0.293000\n",
      "(Epoch 16 / 25) train acc: 0.990000; val_acc: 0.315000\n",
      "(Epoch 17 / 25) train acc: 0.988000; val_acc: 0.327000\n",
      "(Epoch 18 / 25) train acc: 0.992000; val_acc: 0.318000\n",
      "(Epoch 19 / 25) train acc: 0.972000; val_acc: 0.315000\n",
      "(Epoch 20 / 25) train acc: 0.984000; val_acc: 0.305000\n",
      "(Iteration 101 / 125) loss: 0.098233\n",
      "(Epoch 21 / 25) train acc: 0.966000; val_acc: 0.296000\n",
      "(Epoch 22 / 25) train acc: 0.968000; val_acc: 0.306000\n",
      "(Epoch 23 / 25) train acc: 0.990000; val_acc: 0.288000\n",
      "(Epoch 24 / 25) train acc: 0.996000; val_acc: 0.292000\n",
      "(Epoch 25 / 25) train acc: 0.992000; val_acc: 0.300000\n",
      "\n",
      "0.25\n",
      "(Iteration 1 / 125) loss: 15.904550\n",
      "(Epoch 0 / 25) train acc: 0.184000; val_acc: 0.186000\n",
      "(Epoch 1 / 25) train acc: 0.394000; val_acc: 0.264000\n",
      "(Epoch 2 / 25) train acc: 0.474000; val_acc: 0.252000\n",
      "(Epoch 3 / 25) train acc: 0.594000; val_acc: 0.303000\n",
      "(Epoch 4 / 25) train acc: 0.544000; val_acc: 0.326000\n",
      "(Epoch 5 / 25) train acc: 0.618000; val_acc: 0.314000\n",
      "(Epoch 6 / 25) train acc: 0.610000; val_acc: 0.289000\n",
      "(Epoch 7 / 25) train acc: 0.686000; val_acc: 0.314000\n",
      "(Epoch 8 / 25) train acc: 0.668000; val_acc: 0.320000\n",
      "(Epoch 9 / 25) train acc: 0.718000; val_acc: 0.318000\n",
      "(Epoch 10 / 25) train acc: 0.754000; val_acc: 0.315000\n",
      "(Epoch 11 / 25) train acc: 0.768000; val_acc: 0.325000\n",
      "(Epoch 12 / 25) train acc: 0.786000; val_acc: 0.318000\n",
      "(Epoch 13 / 25) train acc: 0.798000; val_acc: 0.331000\n",
      "(Epoch 14 / 25) train acc: 0.814000; val_acc: 0.333000\n",
      "(Epoch 15 / 25) train acc: 0.848000; val_acc: 0.322000\n",
      "(Epoch 16 / 25) train acc: 0.792000; val_acc: 0.285000\n",
      "(Epoch 17 / 25) train acc: 0.820000; val_acc: 0.328000\n",
      "(Epoch 18 / 25) train acc: 0.842000; val_acc: 0.339000\n",
      "(Epoch 19 / 25) train acc: 0.878000; val_acc: 0.325000\n",
      "(Epoch 20 / 25) train acc: 0.872000; val_acc: 0.318000\n",
      "(Iteration 101 / 125) loss: 7.928668\n",
      "(Epoch 21 / 25) train acc: 0.882000; val_acc: 0.309000\n",
      "(Epoch 22 / 25) train acc: 0.872000; val_acc: 0.316000\n",
      "(Epoch 23 / 25) train acc: 0.908000; val_acc: 0.321000\n",
      "(Epoch 24 / 25) train acc: 0.910000; val_acc: 0.294000\n",
      "(Epoch 25 / 25) train acc: 0.912000; val_acc: 0.300000\n",
      "\n"
     ]
    }
   ],
   "source": [
    "# Train two identical nets, one with dropout and one without.\n",
    "np.random.seed(131)\n",
    "num_train = 500\n",
    "small_data = {\n",
    "    'X_train': data['X_train'][:num_train],\n",
    "    'y_train': data['y_train'][:num_train],\n",
    "    'X_val': data['X_val'],\n",
    "    'y_val': data['y_val'],\n",
    "}\n",
    "\n",
    "solvers = {}\n",
    "dropout_choices = [1, 0.25]\n",
    "for dropout_keep_ratio in dropout_choices:\n",
    "    model = FullyConnectedNet(\n",
    "        [500],\n",
    "        dropout_keep_ratio=dropout_keep_ratio\n",
    "    )\n",
    "    print(dropout_keep_ratio)\n",
    "\n",
    "    solver = Solver(\n",
    "        model,\n",
    "        small_data,\n",
    "        num_epochs=25,\n",
    "        batch_size=100,\n",
    "        update_rule='adam',\n",
    "        optim_config={'learning_rate': 5e-4,},\n",
    "        verbose=True,\n",
    "        print_every=100\n",
    "    )\n",
    "    solver.train()\n",
    "    solvers[dropout_keep_ratio] = solver\n",
    "    print()"
   ]
  },
  {
   "cell_type": "code",
   "execution_count": 13,
   "metadata": {},
   "outputs": [
    {
     "data": {
      "image/png": "[encoded data removed]",
      "text/plain": [
       "<Figure size 1080x1080 with 2 Axes>"
      ]
     },
     "metadata": {
      "needs_background": "light"
     },
     "output_type": "display_data"
    }
   ],
   "source": [
    "# Plot train and validation accuracies of the two models.\n",
    "train_accs = []\n",
    "val_accs = []\n",
    "for dropout_keep_ratio in dropout_choices:\n",
    "    solver = solvers[dropout_keep_ratio]\n",
    "    train_accs.append(solver.train_acc_history[-1])\n",
    "    val_accs.append(solver.val_acc_history[-1])\n",
    "\n",
    "plt.subplot(3, 1, 1)\n",
    "for dropout_keep_ratio in dropout_choices:\n",
    "    plt.plot(\n",
    "        solvers[dropout_keep_ratio].train_acc_history, '-o', label='%.2f dropout_keep_ratio' % dropout_keep_ratio)\n",
    "plt.title('Train accuracy')\n",
    "plt.xlabel('Epoch')\n",
    "plt.ylabel('Accuracy')\n",
    "plt.legend(ncol=2, loc='lower right')\n",
    "  \n",
    "plt.subplot(3, 1, 2)\n",
    "for dropout_keep_ratio in dropout_choices:\n",
    "    plt.plot(\n",
    "        solvers[dropout_keep_ratio].val_acc_history, '-o', label='%.2f dropout_keep_ratio' % dropout_keep_ratio)\n",
    "plt.title('Val accuracy')\n",
    "plt.xlabel('Epoch')\n",
    "plt.ylabel('Accuracy')\n",
    "plt.legend(ncol=2, loc='lower right')\n",
    "\n",
    "plt.gcf().set_size_inches(15, 15)\n",
    "plt.show()"
   ]
  },
  {
   "cell_type": "markdown",
   "metadata": {
    "tags": [
     "pdf-inline"
    ]
   },
   "source": [
    "## Inline Question 2:\n",
    "Compare the validation and training accuracies with and without dropout -- what do your results suggest about dropout as a regularizer?\n",
    "\n",
    "## Answer:\n",
    "- 在训练阶段，应用dropout的模型效果更差。因为dropout通过随机丢弃一些神经元，使得模型更加简单，减少了训练时严重过拟合的几率。\n",
    "- 在验证阶段，应用dropout的模型效果更好。因为dropout作为正则化技巧，提高了模型的泛化能力。在未严重过拟合的5-15 Epoch中，可以看到验证集的准确率更高。"
   ]
  }
 ],
 "metadata": {
  "kernelspec": {
   "display_name": "base",
   "language": "python",
   "name": "python3"
  },
  "language_info": {
   "codemirror_mode": {
    "name": "ipython",
    "version": 3
   },
   "file_extension": ".py",
   "mimetype": "text/x-python",
   "name": "python",
   "nbconvert_exporter": "python",
   "pygments_lexer": "ipython3",
   "version": "3.8.8"
  }
 },
 "nbformat": 4,
 "nbformat_minor": 2
}
